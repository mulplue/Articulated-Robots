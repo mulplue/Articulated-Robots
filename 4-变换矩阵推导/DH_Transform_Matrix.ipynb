{
 "cells": [
  {
   "cell_type": "code",
   "execution_count": 1,
   "metadata": {},
   "outputs": [],
   "source": [
    "from sympy import *"
   ]
  },
  {
   "cell_type": "code",
   "execution_count": 3,
   "metadata": {},
   "outputs": [],
   "source": [
    "## get ^(i-1)T_i Transformation Matrix\n",
    "def T(i, d, theta, a, alpha):\n",
    "    T = Matrix([ [cos(theta[i]), -cos(alpha[i]) * sin(theta[i]), sin(alpha[i]) * sin(theta[i]), a[i] * cos(theta[i]) ],\n",
    "                 [sin(theta[i]), cos(alpha[i]) * cos(theta[i]), -sin(alpha[i]) * cos(theta[i]), a[i] * sin(theta[i])],\n",
    "                 [0, sin(alpha[i]), cos(alpha[i]), d[i]],\n",
    "                 [0, 0, 0, 1]\n",
    "                ])\n",
    "    return T"
   ]
  },
  {
   "cell_type": "code",
   "execution_count": 4,
   "metadata": {},
   "outputs": [],
   "source": [
    "## parameters\n",
    "d = [230, -54, 0, 77, 77, 85.5]\n",
    "a = [0, 185, 170, 0, 0, 0]\n",
    "alpha = [pi/2, 0, 0, pi/2, pi/2, 0]\n",
    "\n",
    "theta = [None] * 6\n",
    "theta[0], theta[2], theta[5] = symbols('theta_1 theta_3 theta_6')\n",
    "theta[1] = symbols('theta_2') + pi/2\n",
    "theta[3] = symbols('theta_4') + pi/2\n",
    "theta[4] = symbols('theta_5') - pi/2"
   ]
  },
  {
   "cell_type": "code",
   "execution_count": 5,
   "metadata": {},
   "outputs": [],
   "source": [
    "## multiply one by one\n",
    "T_06 = 1\n",
    "for i in range(6):\n",
    "    T_06 *= T(i, d, theta, a, alpha)\n",
    "T_06 = simplify(T_06)"
   ]
  },
  {
   "cell_type": "code",
   "execution_count": 6,
   "metadata": {},
   "outputs": [
    {
     "data": {
      "text/latex": [
       "$\\displaystyle \\left[\\begin{matrix}- \\left(\\sin{\\left(\\theta_{1} \\right)} \\cos{\\left(\\theta_{5} \\right)} + \\sin{\\left(\\theta_{5} \\right)} \\cos{\\left(\\theta_{1} \\right)} \\cos{\\left(\\theta_{2} + \\theta_{3} + \\theta_{4} \\right)}\\right) \\cos{\\left(\\theta_{6} \\right)} - \\sin{\\left(\\theta_{6} \\right)} \\sin{\\left(\\theta_{2} + \\theta_{3} + \\theta_{4} \\right)} \\cos{\\left(\\theta_{1} \\right)} & \\left(\\sin{\\left(\\theta_{1} \\right)} \\cos{\\left(\\theta_{5} \\right)} + \\sin{\\left(\\theta_{5} \\right)} \\cos{\\left(\\theta_{1} \\right)} \\cos{\\left(\\theta_{2} + \\theta_{3} + \\theta_{4} \\right)}\\right) \\sin{\\left(\\theta_{6} \\right)} - \\sin{\\left(\\theta_{2} + \\theta_{3} + \\theta_{4} \\right)} \\cos{\\left(\\theta_{1} \\right)} \\cos{\\left(\\theta_{6} \\right)} & - \\sin{\\left(\\theta_{1} \\right)} \\sin{\\left(\\theta_{5} \\right)} + \\cos{\\left(\\theta_{1} \\right)} \\cos{\\left(\\theta_{5} \\right)} \\cos{\\left(\\theta_{2} + \\theta_{3} + \\theta_{4} \\right)} & - 85.5 \\sin{\\left(\\theta_{1} \\right)} \\sin{\\left(\\theta_{5} \\right)} + 23.0 \\sin{\\left(\\theta_{1} \\right)} - 185.0 \\sin{\\left(\\theta_{2} \\right)} \\cos{\\left(\\theta_{1} \\right)} - 170.0 \\sin{\\left(\\theta_{2} + \\theta_{3} \\right)} \\cos{\\left(\\theta_{1} \\right)} - 77.0 \\sin{\\left(\\theta_{2} + \\theta_{3} + \\theta_{4} \\right)} \\cos{\\left(\\theta_{1} \\right)} + 85.5 \\cos{\\left(\\theta_{1} \\right)} \\cos{\\left(\\theta_{5} \\right)} \\cos{\\left(\\theta_{2} + \\theta_{3} + \\theta_{4} \\right)}\\\\\\left(- \\sin{\\left(\\theta_{1} \\right)} \\sin{\\left(\\theta_{5} \\right)} \\cos{\\left(\\theta_{2} + \\theta_{3} + \\theta_{4} \\right)} + \\cos{\\left(\\theta_{1} \\right)} \\cos{\\left(\\theta_{5} \\right)}\\right) \\cos{\\left(\\theta_{6} \\right)} - \\sin{\\left(\\theta_{1} \\right)} \\sin{\\left(\\theta_{6} \\right)} \\sin{\\left(\\theta_{2} + \\theta_{3} + \\theta_{4} \\right)} & \\left(\\sin{\\left(\\theta_{1} \\right)} \\sin{\\left(\\theta_{5} \\right)} \\cos{\\left(\\theta_{2} + \\theta_{3} + \\theta_{4} \\right)} - \\cos{\\left(\\theta_{1} \\right)} \\cos{\\left(\\theta_{5} \\right)}\\right) \\sin{\\left(\\theta_{6} \\right)} - \\sin{\\left(\\theta_{1} \\right)} \\sin{\\left(\\theta_{2} + \\theta_{3} + \\theta_{4} \\right)} \\cos{\\left(\\theta_{6} \\right)} & \\sin{\\left(\\theta_{1} \\right)} \\cos{\\left(\\theta_{5} \\right)} \\cos{\\left(\\theta_{2} + \\theta_{3} + \\theta_{4} \\right)} + \\sin{\\left(\\theta_{5} \\right)} \\cos{\\left(\\theta_{1} \\right)} & - 185.0 \\sin{\\left(\\theta_{1} \\right)} \\sin{\\left(\\theta_{2} \\right)} - 170.0 \\sin{\\left(\\theta_{1} \\right)} \\sin{\\left(\\theta_{2} + \\theta_{3} \\right)} - 77.0 \\sin{\\left(\\theta_{1} \\right)} \\sin{\\left(\\theta_{2} + \\theta_{3} + \\theta_{4} \\right)} + 85.5 \\sin{\\left(\\theta_{1} \\right)} \\cos{\\left(\\theta_{5} \\right)} \\cos{\\left(\\theta_{2} + \\theta_{3} + \\theta_{4} \\right)} + 85.5 \\sin{\\left(\\theta_{5} \\right)} \\cos{\\left(\\theta_{1} \\right)} - 23.0 \\cos{\\left(\\theta_{1} \\right)}\\\\- \\sin{\\left(\\theta_{5} \\right)} \\sin{\\left(\\theta_{2} + \\theta_{3} + \\theta_{4} \\right)} \\cos{\\left(\\theta_{6} \\right)} + \\sin{\\left(\\theta_{6} \\right)} \\cos{\\left(\\theta_{2} + \\theta_{3} + \\theta_{4} \\right)} & \\sin{\\left(\\theta_{5} \\right)} \\sin{\\left(\\theta_{6} \\right)} \\sin{\\left(\\theta_{2} + \\theta_{3} + \\theta_{4} \\right)} + \\cos{\\left(\\theta_{6} \\right)} \\cos{\\left(\\theta_{2} + \\theta_{3} + \\theta_{4} \\right)} & \\sin{\\left(\\theta_{2} + \\theta_{3} + \\theta_{4} \\right)} \\cos{\\left(\\theta_{5} \\right)} & 85.5 \\sin{\\left(\\theta_{2} + \\theta_{3} + \\theta_{4} \\right)} \\cos{\\left(\\theta_{5} \\right)} + 185.0 \\cos{\\left(\\theta_{2} \\right)} + 170.0 \\cos{\\left(\\theta_{2} + \\theta_{3} \\right)} + 77.0 \\cos{\\left(\\theta_{2} + \\theta_{3} + \\theta_{4} \\right)} + 230.0\\\\0 & 0 & 0 & 1\\end{matrix}\\right]$"
      ],
      "text/plain": [
       "Matrix([\n",
       "[-(sin(theta_1)*cos(theta_5) + sin(theta_5)*cos(theta_1)*cos(theta_2 + theta_3 + theta_4))*cos(theta_6) - sin(theta_6)*sin(theta_2 + theta_3 + theta_4)*cos(theta_1), (sin(theta_1)*cos(theta_5) + sin(theta_5)*cos(theta_1)*cos(theta_2 + theta_3 + theta_4))*sin(theta_6) - sin(theta_2 + theta_3 + theta_4)*cos(theta_1)*cos(theta_6), -sin(theta_1)*sin(theta_5) + cos(theta_1)*cos(theta_5)*cos(theta_2 + theta_3 + theta_4), -85.5*sin(theta_1)*sin(theta_5) + 23.0*sin(theta_1) - 185.0*sin(theta_2)*cos(theta_1) - 170.0*sin(theta_2 + theta_3)*cos(theta_1) - 77.0*sin(theta_2 + theta_3 + theta_4)*cos(theta_1) + 85.5*cos(theta_1)*cos(theta_5)*cos(theta_2 + theta_3 + theta_4)],\n",
       "[(-sin(theta_1)*sin(theta_5)*cos(theta_2 + theta_3 + theta_4) + cos(theta_1)*cos(theta_5))*cos(theta_6) - sin(theta_1)*sin(theta_6)*sin(theta_2 + theta_3 + theta_4), (sin(theta_1)*sin(theta_5)*cos(theta_2 + theta_3 + theta_4) - cos(theta_1)*cos(theta_5))*sin(theta_6) - sin(theta_1)*sin(theta_2 + theta_3 + theta_4)*cos(theta_6),  sin(theta_1)*cos(theta_5)*cos(theta_2 + theta_3 + theta_4) + sin(theta_5)*cos(theta_1), -185.0*sin(theta_1)*sin(theta_2) - 170.0*sin(theta_1)*sin(theta_2 + theta_3) - 77.0*sin(theta_1)*sin(theta_2 + theta_3 + theta_4) + 85.5*sin(theta_1)*cos(theta_5)*cos(theta_2 + theta_3 + theta_4) + 85.5*sin(theta_5)*cos(theta_1) - 23.0*cos(theta_1)],\n",
       "[                                                        -sin(theta_5)*sin(theta_2 + theta_3 + theta_4)*cos(theta_6) + sin(theta_6)*cos(theta_2 + theta_3 + theta_4),                                                         sin(theta_5)*sin(theta_6)*sin(theta_2 + theta_3 + theta_4) + cos(theta_6)*cos(theta_2 + theta_3 + theta_4),                                           sin(theta_2 + theta_3 + theta_4)*cos(theta_5),                                                                                                   85.5*sin(theta_2 + theta_3 + theta_4)*cos(theta_5) + 185.0*cos(theta_2) + 170.0*cos(theta_2 + theta_3) + 77.0*cos(theta_2 + theta_3 + theta_4) + 230.0],\n",
       "[                                                                                                                                                                  0,                                                                                                                                                                  0,                                                                                       0,                                                                                                                                                                                                                                                        1]])"
      ]
     },
     "execution_count": 6,
     "metadata": {},
     "output_type": "execute_result"
    }
   ],
   "source": [
    "T_06"
   ]
  }
 ],
 "metadata": {
  "interpreter": {
   "hash": "3c9a80666792b869b9c9aeb8bf15e9bc038949b138c0615ebb4f8ac2dcad0b63"
  },
  "kernelspec": {
   "display_name": "Python 3.9.12 ('control')",
   "language": "python",
   "name": "python3"
  },
  "language_info": {
   "codemirror_mode": {
    "name": "ipython",
    "version": 3
   },
   "file_extension": ".py",
   "mimetype": "text/x-python",
   "name": "python",
   "nbconvert_exporter": "python",
   "pygments_lexer": "ipython3",
   "version": "3.9.12"
  },
  "orig_nbformat": 4
 },
 "nbformat": 4,
 "nbformat_minor": 2
}
